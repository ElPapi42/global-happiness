{
  "nbformat": 4,
  "nbformat_minor": 0,
  "metadata": {
    "colab": {
      "name": "notebook.ipynb",
      "provenance": [],
      "toc_visible": true,
      "authorship_tag": "ABX9TyMozPXvTI4ZqJEQYqZn0Pb4",
      "include_colab_link": true
    },
    "kernelspec": {
      "name": "python3",
      "display_name": "Python 3"
    }
  },
  "cells": [
    {
      "cell_type": "markdown",
      "metadata": {
        "id": "view-in-github",
        "colab_type": "text"
      },
      "source": [
        "<a href=\"https://colab.research.google.com/github/ElPapi42/global-happiness/blob/master/notebook.ipynb\" target=\"_parent\"><img src=\"https://colab.research.google.com/assets/colab-badge.svg\" alt=\"Open In Colab\"/></a>"
      ]
    },
    {
      "cell_type": "code",
      "metadata": {
        "colab": {
          "base_uri": "https://localhost:8080/"
        },
        "id": "Ae2f3KjGpMhz",
        "outputId": "6afc8d7a-c078-4576-a41a-e624db8af46c"
      },
      "source": [
        "# Mount gdrive\n",
        "from google.colab import drive\n",
        "drive.mount(\"/content/drive\")"
      ],
      "execution_count": 1,
      "outputs": [
        {
          "output_type": "stream",
          "text": [
            "Mounted at /content/drive\n"
          ],
          "name": "stdout"
        }
      ]
    },
    {
      "cell_type": "code",
      "metadata": {
        "id": "4muKN9ymrxrB"
      },
      "source": [
        "# Copy CSVs to notebook runtime storage\n",
        "!cp '/content/drive/MyDrive/Datasets/2015.csv' '/content/2015.csv'\n",
        "!cp '/content/drive/MyDrive/Datasets/2016.csv' '/content/2016.csv'\n",
        "!cp '/content/drive/MyDrive/Datasets/2017.csv' '/content/2017.csv'\n",
        "!cp '/content/drive/MyDrive/Datasets/2018.csv' '/content/2018.csv'\n",
        "!cp '/content/drive/MyDrive/Datasets/2019.csv' '/content/2019.csv'"
      ],
      "execution_count": 2,
      "outputs": []
    },
    {
      "cell_type": "code",
      "metadata": {
        "id": "rQNdItpRsTOH"
      },
      "source": [
        "from datetime import datetime\n",
        "\n",
        "import pandas as pd\n",
        "import seaborn as sn\n",
        "import matplotlib.pyplot as plt\n",
        "import numpy as np"
      ],
      "execution_count": 3,
      "outputs": []
    }
  ]
}