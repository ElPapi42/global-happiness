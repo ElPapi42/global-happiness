{
  "nbformat": 4,
  "nbformat_minor": 0,
  "metadata": {
    "colab": {
      "name": "notebook.ipynb",
      "provenance": [],
      "collapsed_sections": [],
      "toc_visible": true,
      "authorship_tag": "ABX9TyPzemgQ7E3nwoF8r/A1Upse",
      "include_colab_link": true
    },
    "kernelspec": {
      "name": "python3",
      "display_name": "Python 3"
    }
  },
  "cells": [
    {
      "cell_type": "markdown",
      "metadata": {
        "id": "view-in-github",
        "colab_type": "text"
      },
      "source": [
        "<a href=\"https://colab.research.google.com/github/ElPapi42/global-happiness/blob/master/notebook.ipynb\" target=\"_parent\"><img src=\"https://colab.research.google.com/assets/colab-badge.svg\" alt=\"Open In Colab\"/></a>"
      ]
    },
    {
      "cell_type": "code",
      "metadata": {
        "colab": {
          "base_uri": "https://localhost:8080/"
        },
        "id": "Ae2f3KjGpMhz",
        "outputId": "9f3d070e-9274-4000-e28f-6c48d35d835f"
      },
      "source": [
        "# Mount gdrive\n",
        "from google.colab import drive\n",
        "drive.mount(\"/content/drive\")"
      ],
      "execution_count": 1,
      "outputs": [
        {
          "output_type": "stream",
          "text": [
            "Drive already mounted at /content/drive; to attempt to forcibly remount, call drive.mount(\"/content/drive\", force_remount=True).\n"
          ],
          "name": "stdout"
        }
      ]
    },
    {
      "cell_type": "code",
      "metadata": {
        "id": "4muKN9ymrxrB"
      },
      "source": [
        "# Copy CSVs to notebook runtime storage\n",
        "!cp '/content/drive/MyDrive/Datasets/2015.csv' '/content/2015.csv'\n",
        "!cp '/content/drive/MyDrive/Datasets/2016.csv' '/content/2016.csv'\n",
        "!cp '/content/drive/MyDrive/Datasets/2017.csv' '/content/2017.csv'\n",
        "!cp '/content/drive/MyDrive/Datasets/2018.csv' '/content/2018.csv'\n",
        "!cp '/content/drive/MyDrive/Datasets/2019.csv' '/content/2019.csv'"
      ],
      "execution_count": 2,
      "outputs": []
    },
    {
      "cell_type": "code",
      "metadata": {
        "id": "rQNdItpRsTOH"
      },
      "source": [
        "from datetime import datetime\n",
        "\n",
        "import pandas as pd\n",
        "import seaborn as sn\n",
        "import matplotlib.pyplot as plt\n",
        "import numpy as np"
      ],
      "execution_count": 3,
      "outputs": []
    },
    {
      "cell_type": "markdown",
      "metadata": {
        "id": "id6kquDEsmgT"
      },
      "source": [
        "# Load Datasets"
      ]
    },
    {
      "cell_type": "code",
      "metadata": {
        "id": "Q9_Gysnwsh54"
      },
      "source": [
        "data_15 = pd.read_csv('/content/2015.csv')\n",
        "data_16 = pd.read_csv('/content/2016.csv')\n",
        "data_17 = pd.read_csv('/content/2017.csv')\n",
        "data_18 = pd.read_csv('/content/2018.csv')\n",
        "data_19 = pd.read_csv('/content/2019.csv')"
      ],
      "execution_count": 4,
      "outputs": []
    },
    {
      "cell_type": "markdown",
      "metadata": {
        "id": "xKjqnaFJve5W"
      },
      "source": [
        "# Preprocess Datasets"
      ]
    },
    {
      "cell_type": "markdown",
      "metadata": {
        "id": "Gp51_zPn0sQQ"
      },
      "source": [
        "### Clean 2015 Dataset"
      ]
    },
    {
      "cell_type": "code",
      "metadata": {
        "colab": {
          "base_uri": "https://localhost:8080/",
          "height": 174
        },
        "id": "VLWAz32gs7uS",
        "outputId": "983198ae-2973-43ef-d9c7-90a73dd920ff"
      },
      "source": [
        "data_15.head(2)"
      ],
      "execution_count": 5,
      "outputs": [
        {
          "output_type": "execute_result",
          "data": {
            "text/html": [
              "<div>\n",
              "<style scoped>\n",
              "    .dataframe tbody tr th:only-of-type {\n",
              "        vertical-align: middle;\n",
              "    }\n",
              "\n",
              "    .dataframe tbody tr th {\n",
              "        vertical-align: top;\n",
              "    }\n",
              "\n",
              "    .dataframe thead th {\n",
              "        text-align: right;\n",
              "    }\n",
              "</style>\n",
              "<table border=\"1\" class=\"dataframe\">\n",
              "  <thead>\n",
              "    <tr style=\"text-align: right;\">\n",
              "      <th></th>\n",
              "      <th>Country</th>\n",
              "      <th>Region</th>\n",
              "      <th>Happiness Rank</th>\n",
              "      <th>Happiness Score</th>\n",
              "      <th>Standard Error</th>\n",
              "      <th>Economy (GDP per Capita)</th>\n",
              "      <th>Family</th>\n",
              "      <th>Health (Life Expectancy)</th>\n",
              "      <th>Freedom</th>\n",
              "      <th>Trust (Government Corruption)</th>\n",
              "      <th>Generosity</th>\n",
              "      <th>Dystopia Residual</th>\n",
              "    </tr>\n",
              "  </thead>\n",
              "  <tbody>\n",
              "    <tr>\n",
              "      <th>0</th>\n",
              "      <td>Switzerland</td>\n",
              "      <td>Western Europe</td>\n",
              "      <td>1</td>\n",
              "      <td>7.587</td>\n",
              "      <td>0.03411</td>\n",
              "      <td>1.39651</td>\n",
              "      <td>1.34951</td>\n",
              "      <td>0.94143</td>\n",
              "      <td>0.66557</td>\n",
              "      <td>0.41978</td>\n",
              "      <td>0.29678</td>\n",
              "      <td>2.51738</td>\n",
              "    </tr>\n",
              "    <tr>\n",
              "      <th>1</th>\n",
              "      <td>Iceland</td>\n",
              "      <td>Western Europe</td>\n",
              "      <td>2</td>\n",
              "      <td>7.561</td>\n",
              "      <td>0.04884</td>\n",
              "      <td>1.30232</td>\n",
              "      <td>1.40223</td>\n",
              "      <td>0.94784</td>\n",
              "      <td>0.62877</td>\n",
              "      <td>0.14145</td>\n",
              "      <td>0.43630</td>\n",
              "      <td>2.70201</td>\n",
              "    </tr>\n",
              "  </tbody>\n",
              "</table>\n",
              "</div>"
            ],
            "text/plain": [
              "       Country          Region  ...  Generosity  Dystopia Residual\n",
              "0  Switzerland  Western Europe  ...     0.29678            2.51738\n",
              "1      Iceland  Western Europe  ...     0.43630            2.70201\n",
              "\n",
              "[2 rows x 12 columns]"
            ]
          },
          "metadata": {
            "tags": []
          },
          "execution_count": 5
        }
      ]
    },
    {
      "cell_type": "code",
      "metadata": {
        "colab": {
          "base_uri": "https://localhost:8080/",
          "height": 106
        },
        "id": "bRslh46BvjX4",
        "outputId": "22e9c809-2bdd-4ff0-f75b-6e86e39b24cc"
      },
      "source": [
        "data_15 = data_15.rename(\n",
        "    columns={\n",
        "        'Country': 'country',\n",
        "        'Region': 'region',\n",
        "        'Happiness Rank': 'rank',\n",
        "        'Happiness Score': 'score',\n",
        "        'Economy (GDP per Capita)': 'economy',\n",
        "        'Family': 'support',\n",
        "        'Health (Life Expectancy)': 'health',\n",
        "        'Freedom': 'freedom',\n",
        "        'Trust (Government Corruption)': 'trust',\n",
        "        'Generosity': 'generosity'\n",
        "    }\n",
        ")\n",
        "\n",
        "data_15 = data_15.drop(columns=['Standard Error', 'Dystopia Residual'], errors='ignore')\n",
        "\n",
        "data_15.head(2)"
      ],
      "execution_count": 6,
      "outputs": [
        {
          "output_type": "execute_result",
          "data": {
            "text/html": [
              "<div>\n",
              "<style scoped>\n",
              "    .dataframe tbody tr th:only-of-type {\n",
              "        vertical-align: middle;\n",
              "    }\n",
              "\n",
              "    .dataframe tbody tr th {\n",
              "        vertical-align: top;\n",
              "    }\n",
              "\n",
              "    .dataframe thead th {\n",
              "        text-align: right;\n",
              "    }\n",
              "</style>\n",
              "<table border=\"1\" class=\"dataframe\">\n",
              "  <thead>\n",
              "    <tr style=\"text-align: right;\">\n",
              "      <th></th>\n",
              "      <th>country</th>\n",
              "      <th>region</th>\n",
              "      <th>rank</th>\n",
              "      <th>score</th>\n",
              "      <th>economy</th>\n",
              "      <th>support</th>\n",
              "      <th>health</th>\n",
              "      <th>freedom</th>\n",
              "      <th>trust</th>\n",
              "      <th>generosity</th>\n",
              "    </tr>\n",
              "  </thead>\n",
              "  <tbody>\n",
              "    <tr>\n",
              "      <th>0</th>\n",
              "      <td>Switzerland</td>\n",
              "      <td>Western Europe</td>\n",
              "      <td>1</td>\n",
              "      <td>7.587</td>\n",
              "      <td>1.39651</td>\n",
              "      <td>1.34951</td>\n",
              "      <td>0.94143</td>\n",
              "      <td>0.66557</td>\n",
              "      <td>0.41978</td>\n",
              "      <td>0.29678</td>\n",
              "    </tr>\n",
              "    <tr>\n",
              "      <th>1</th>\n",
              "      <td>Iceland</td>\n",
              "      <td>Western Europe</td>\n",
              "      <td>2</td>\n",
              "      <td>7.561</td>\n",
              "      <td>1.30232</td>\n",
              "      <td>1.40223</td>\n",
              "      <td>0.94784</td>\n",
              "      <td>0.62877</td>\n",
              "      <td>0.14145</td>\n",
              "      <td>0.43630</td>\n",
              "    </tr>\n",
              "  </tbody>\n",
              "</table>\n",
              "</div>"
            ],
            "text/plain": [
              "       country          region  rank  ...  freedom    trust  generosity\n",
              "0  Switzerland  Western Europe     1  ...  0.66557  0.41978     0.29678\n",
              "1      Iceland  Western Europe     2  ...  0.62877  0.14145     0.43630\n",
              "\n",
              "[2 rows x 10 columns]"
            ]
          },
          "metadata": {
            "tags": []
          },
          "execution_count": 6
        }
      ]
    },
    {
      "cell_type": "markdown",
      "metadata": {
        "id": "_DtG6m_31Enb"
      },
      "source": [
        "### Clean 2016 Dataset"
      ]
    },
    {
      "cell_type": "code",
      "metadata": {
        "colab": {
          "base_uri": "https://localhost:8080/",
          "height": 174
        },
        "id": "fcZ5ZMjLtX7E",
        "outputId": "fe49a8d7-40cf-436f-8be7-a4bd84519a5f"
      },
      "source": [
        "data_16.head(2)"
      ],
      "execution_count": 7,
      "outputs": [
        {
          "output_type": "execute_result",
          "data": {
            "text/html": [
              "<div>\n",
              "<style scoped>\n",
              "    .dataframe tbody tr th:only-of-type {\n",
              "        vertical-align: middle;\n",
              "    }\n",
              "\n",
              "    .dataframe tbody tr th {\n",
              "        vertical-align: top;\n",
              "    }\n",
              "\n",
              "    .dataframe thead th {\n",
              "        text-align: right;\n",
              "    }\n",
              "</style>\n",
              "<table border=\"1\" class=\"dataframe\">\n",
              "  <thead>\n",
              "    <tr style=\"text-align: right;\">\n",
              "      <th></th>\n",
              "      <th>Country</th>\n",
              "      <th>Region</th>\n",
              "      <th>Happiness Rank</th>\n",
              "      <th>Happiness Score</th>\n",
              "      <th>Lower Confidence Interval</th>\n",
              "      <th>Upper Confidence Interval</th>\n",
              "      <th>Economy (GDP per Capita)</th>\n",
              "      <th>Family</th>\n",
              "      <th>Health (Life Expectancy)</th>\n",
              "      <th>Freedom</th>\n",
              "      <th>Trust (Government Corruption)</th>\n",
              "      <th>Generosity</th>\n",
              "      <th>Dystopia Residual</th>\n",
              "    </tr>\n",
              "  </thead>\n",
              "  <tbody>\n",
              "    <tr>\n",
              "      <th>0</th>\n",
              "      <td>Denmark</td>\n",
              "      <td>Western Europe</td>\n",
              "      <td>1</td>\n",
              "      <td>7.526</td>\n",
              "      <td>7.460</td>\n",
              "      <td>7.592</td>\n",
              "      <td>1.44178</td>\n",
              "      <td>1.16374</td>\n",
              "      <td>0.79504</td>\n",
              "      <td>0.57941</td>\n",
              "      <td>0.44453</td>\n",
              "      <td>0.36171</td>\n",
              "      <td>2.73939</td>\n",
              "    </tr>\n",
              "    <tr>\n",
              "      <th>1</th>\n",
              "      <td>Switzerland</td>\n",
              "      <td>Western Europe</td>\n",
              "      <td>2</td>\n",
              "      <td>7.509</td>\n",
              "      <td>7.428</td>\n",
              "      <td>7.590</td>\n",
              "      <td>1.52733</td>\n",
              "      <td>1.14524</td>\n",
              "      <td>0.86303</td>\n",
              "      <td>0.58557</td>\n",
              "      <td>0.41203</td>\n",
              "      <td>0.28083</td>\n",
              "      <td>2.69463</td>\n",
              "    </tr>\n",
              "  </tbody>\n",
              "</table>\n",
              "</div>"
            ],
            "text/plain": [
              "       Country          Region  ...  Generosity  Dystopia Residual\n",
              "0      Denmark  Western Europe  ...     0.36171            2.73939\n",
              "1  Switzerland  Western Europe  ...     0.28083            2.69463\n",
              "\n",
              "[2 rows x 13 columns]"
            ]
          },
          "metadata": {
            "tags": []
          },
          "execution_count": 7
        }
      ]
    },
    {
      "cell_type": "code",
      "metadata": {
        "colab": {
          "base_uri": "https://localhost:8080/",
          "height": 106
        },
        "id": "eao_HvO4z9hL",
        "outputId": "b6f094bd-591c-4ee7-b814-17de947aa30f"
      },
      "source": [
        "data_16 = data_16.rename(\n",
        "    columns={\n",
        "        'Country': 'country',\n",
        "        'Region': 'region',\n",
        "        'Happiness Rank': 'rank',\n",
        "        'Happiness Score': 'score',\n",
        "        'Economy (GDP per Capita)': 'economy',\n",
        "        'Family': 'support',\n",
        "        'Health (Life Expectancy)': 'health',\n",
        "        'Freedom': 'freedom',\n",
        "        'Trust (Government Corruption)': 'trust',\n",
        "        'Generosity': 'generosity'\n",
        "    }\n",
        ")\n",
        "\n",
        "data_16 = data_16.drop(columns=['Lower Confidence Interval', 'Upper Confidence Interval', 'Dystopia Residual'], errors='ignore')\n",
        "\n",
        "data_16.head(2)"
      ],
      "execution_count": 8,
      "outputs": [
        {
          "output_type": "execute_result",
          "data": {
            "text/html": [
              "<div>\n",
              "<style scoped>\n",
              "    .dataframe tbody tr th:only-of-type {\n",
              "        vertical-align: middle;\n",
              "    }\n",
              "\n",
              "    .dataframe tbody tr th {\n",
              "        vertical-align: top;\n",
              "    }\n",
              "\n",
              "    .dataframe thead th {\n",
              "        text-align: right;\n",
              "    }\n",
              "</style>\n",
              "<table border=\"1\" class=\"dataframe\">\n",
              "  <thead>\n",
              "    <tr style=\"text-align: right;\">\n",
              "      <th></th>\n",
              "      <th>country</th>\n",
              "      <th>region</th>\n",
              "      <th>rank</th>\n",
              "      <th>score</th>\n",
              "      <th>economy</th>\n",
              "      <th>support</th>\n",
              "      <th>health</th>\n",
              "      <th>freedom</th>\n",
              "      <th>trust</th>\n",
              "      <th>generosity</th>\n",
              "    </tr>\n",
              "  </thead>\n",
              "  <tbody>\n",
              "    <tr>\n",
              "      <th>0</th>\n",
              "      <td>Denmark</td>\n",
              "      <td>Western Europe</td>\n",
              "      <td>1</td>\n",
              "      <td>7.526</td>\n",
              "      <td>1.44178</td>\n",
              "      <td>1.16374</td>\n",
              "      <td>0.79504</td>\n",
              "      <td>0.57941</td>\n",
              "      <td>0.44453</td>\n",
              "      <td>0.36171</td>\n",
              "    </tr>\n",
              "    <tr>\n",
              "      <th>1</th>\n",
              "      <td>Switzerland</td>\n",
              "      <td>Western Europe</td>\n",
              "      <td>2</td>\n",
              "      <td>7.509</td>\n",
              "      <td>1.52733</td>\n",
              "      <td>1.14524</td>\n",
              "      <td>0.86303</td>\n",
              "      <td>0.58557</td>\n",
              "      <td>0.41203</td>\n",
              "      <td>0.28083</td>\n",
              "    </tr>\n",
              "  </tbody>\n",
              "</table>\n",
              "</div>"
            ],
            "text/plain": [
              "       country          region  rank  ...  freedom    trust  generosity\n",
              "0      Denmark  Western Europe     1  ...  0.57941  0.44453     0.36171\n",
              "1  Switzerland  Western Europe     2  ...  0.58557  0.41203     0.28083\n",
              "\n",
              "[2 rows x 10 columns]"
            ]
          },
          "metadata": {
            "tags": []
          },
          "execution_count": 8
        }
      ]
    },
    {
      "cell_type": "markdown",
      "metadata": {
        "id": "NLUqhzfu1H2C"
      },
      "source": [
        "### Clean 2017 Dataset"
      ]
    },
    {
      "cell_type": "code",
      "metadata": {
        "colab": {
          "base_uri": "https://localhost:8080/",
          "height": 126
        },
        "id": "s61KPfXXttVC",
        "outputId": "ded90478-dc7f-4961-a266-e17218cf44c1"
      },
      "source": [
        "data_17.head(2)"
      ],
      "execution_count": 9,
      "outputs": [
        {
          "output_type": "execute_result",
          "data": {
            "text/html": [
              "<div>\n",
              "<style scoped>\n",
              "    .dataframe tbody tr th:only-of-type {\n",
              "        vertical-align: middle;\n",
              "    }\n",
              "\n",
              "    .dataframe tbody tr th {\n",
              "        vertical-align: top;\n",
              "    }\n",
              "\n",
              "    .dataframe thead th {\n",
              "        text-align: right;\n",
              "    }\n",
              "</style>\n",
              "<table border=\"1\" class=\"dataframe\">\n",
              "  <thead>\n",
              "    <tr style=\"text-align: right;\">\n",
              "      <th></th>\n",
              "      <th>Country</th>\n",
              "      <th>Happiness.Rank</th>\n",
              "      <th>Happiness.Score</th>\n",
              "      <th>Whisker.high</th>\n",
              "      <th>Whisker.low</th>\n",
              "      <th>Economy..GDP.per.Capita.</th>\n",
              "      <th>Family</th>\n",
              "      <th>Health..Life.Expectancy.</th>\n",
              "      <th>Freedom</th>\n",
              "      <th>Generosity</th>\n",
              "      <th>Trust..Government.Corruption.</th>\n",
              "      <th>Dystopia.Residual</th>\n",
              "    </tr>\n",
              "  </thead>\n",
              "  <tbody>\n",
              "    <tr>\n",
              "      <th>0</th>\n",
              "      <td>Norway</td>\n",
              "      <td>1</td>\n",
              "      <td>7.537</td>\n",
              "      <td>7.594445</td>\n",
              "      <td>7.479556</td>\n",
              "      <td>1.616463</td>\n",
              "      <td>1.533524</td>\n",
              "      <td>0.796667</td>\n",
              "      <td>0.635423</td>\n",
              "      <td>0.362012</td>\n",
              "      <td>0.315964</td>\n",
              "      <td>2.277027</td>\n",
              "    </tr>\n",
              "    <tr>\n",
              "      <th>1</th>\n",
              "      <td>Denmark</td>\n",
              "      <td>2</td>\n",
              "      <td>7.522</td>\n",
              "      <td>7.581728</td>\n",
              "      <td>7.462272</td>\n",
              "      <td>1.482383</td>\n",
              "      <td>1.551122</td>\n",
              "      <td>0.792566</td>\n",
              "      <td>0.626007</td>\n",
              "      <td>0.355280</td>\n",
              "      <td>0.400770</td>\n",
              "      <td>2.313707</td>\n",
              "    </tr>\n",
              "  </tbody>\n",
              "</table>\n",
              "</div>"
            ],
            "text/plain": [
              "   Country  Happiness.Rank  ...  Trust..Government.Corruption.  Dystopia.Residual\n",
              "0   Norway               1  ...                       0.315964           2.277027\n",
              "1  Denmark               2  ...                       0.400770           2.313707\n",
              "\n",
              "[2 rows x 12 columns]"
            ]
          },
          "metadata": {
            "tags": []
          },
          "execution_count": 9
        }
      ]
    },
    {
      "cell_type": "code",
      "metadata": {
        "colab": {
          "base_uri": "https://localhost:8080/",
          "height": 106
        },
        "id": "m09udnSg0bvp",
        "outputId": "2636858d-0fbe-4ab8-aa25-90cd7b9c7eef"
      },
      "source": [
        "data_17 = data_17.rename(\n",
        "    columns={\n",
        "        'Country': 'country',\n",
        "        'Happiness.Rank': 'rank',\n",
        "        'Happiness.Score': 'score',\n",
        "        'Economy..GDP.per.Capita.': 'economy',\n",
        "        'Family': 'support',\n",
        "        'Health..Life.Expectancy.': 'health',\n",
        "        'Freedom': 'freedom',\n",
        "        'Trust..Government.Corruption.': 'trust',\n",
        "        'Generosity': 'generosity'\n",
        "    }\n",
        ")\n",
        "\n",
        "data_17 = data_17.drop(columns=['Whisker.high', 'Whisker.low', 'Dystopia.Residual'], errors='ignore')\n",
        "\n",
        "data_17.head(2)"
      ],
      "execution_count": 10,
      "outputs": [
        {
          "output_type": "execute_result",
          "data": {
            "text/html": [
              "<div>\n",
              "<style scoped>\n",
              "    .dataframe tbody tr th:only-of-type {\n",
              "        vertical-align: middle;\n",
              "    }\n",
              "\n",
              "    .dataframe tbody tr th {\n",
              "        vertical-align: top;\n",
              "    }\n",
              "\n",
              "    .dataframe thead th {\n",
              "        text-align: right;\n",
              "    }\n",
              "</style>\n",
              "<table border=\"1\" class=\"dataframe\">\n",
              "  <thead>\n",
              "    <tr style=\"text-align: right;\">\n",
              "      <th></th>\n",
              "      <th>country</th>\n",
              "      <th>rank</th>\n",
              "      <th>score</th>\n",
              "      <th>economy</th>\n",
              "      <th>support</th>\n",
              "      <th>health</th>\n",
              "      <th>freedom</th>\n",
              "      <th>generosity</th>\n",
              "      <th>trust</th>\n",
              "    </tr>\n",
              "  </thead>\n",
              "  <tbody>\n",
              "    <tr>\n",
              "      <th>0</th>\n",
              "      <td>Norway</td>\n",
              "      <td>1</td>\n",
              "      <td>7.537</td>\n",
              "      <td>1.616463</td>\n",
              "      <td>1.533524</td>\n",
              "      <td>0.796667</td>\n",
              "      <td>0.635423</td>\n",
              "      <td>0.362012</td>\n",
              "      <td>0.315964</td>\n",
              "    </tr>\n",
              "    <tr>\n",
              "      <th>1</th>\n",
              "      <td>Denmark</td>\n",
              "      <td>2</td>\n",
              "      <td>7.522</td>\n",
              "      <td>1.482383</td>\n",
              "      <td>1.551122</td>\n",
              "      <td>0.792566</td>\n",
              "      <td>0.626007</td>\n",
              "      <td>0.355280</td>\n",
              "      <td>0.400770</td>\n",
              "    </tr>\n",
              "  </tbody>\n",
              "</table>\n",
              "</div>"
            ],
            "text/plain": [
              "   country  rank  score   economy  ...    health   freedom  generosity     trust\n",
              "0   Norway     1  7.537  1.616463  ...  0.796667  0.635423    0.362012  0.315964\n",
              "1  Denmark     2  7.522  1.482383  ...  0.792566  0.626007    0.355280  0.400770\n",
              "\n",
              "[2 rows x 9 columns]"
            ]
          },
          "metadata": {
            "tags": []
          },
          "execution_count": 10
        }
      ]
    },
    {
      "cell_type": "markdown",
      "metadata": {
        "id": "hRzQQb9n1rra"
      },
      "source": [
        "### Clean 2018 Dataset"
      ]
    },
    {
      "cell_type": "code",
      "metadata": {
        "colab": {
          "base_uri": "https://localhost:8080/",
          "height": 123
        },
        "id": "kow0D2vM1u9l",
        "outputId": "708000c0-dd13-4c06-8a01-ff8d8964988b"
      },
      "source": [
        "data_18.head(2)"
      ],
      "execution_count": 11,
      "outputs": [
        {
          "output_type": "execute_result",
          "data": {
            "text/html": [
              "<div>\n",
              "<style scoped>\n",
              "    .dataframe tbody tr th:only-of-type {\n",
              "        vertical-align: middle;\n",
              "    }\n",
              "\n",
              "    .dataframe tbody tr th {\n",
              "        vertical-align: top;\n",
              "    }\n",
              "\n",
              "    .dataframe thead th {\n",
              "        text-align: right;\n",
              "    }\n",
              "</style>\n",
              "<table border=\"1\" class=\"dataframe\">\n",
              "  <thead>\n",
              "    <tr style=\"text-align: right;\">\n",
              "      <th></th>\n",
              "      <th>Overall rank</th>\n",
              "      <th>Country or region</th>\n",
              "      <th>Score</th>\n",
              "      <th>GDP per capita</th>\n",
              "      <th>Social support</th>\n",
              "      <th>Healthy life expectancy</th>\n",
              "      <th>Freedom to make life choices</th>\n",
              "      <th>Generosity</th>\n",
              "      <th>Perceptions of corruption</th>\n",
              "    </tr>\n",
              "  </thead>\n",
              "  <tbody>\n",
              "    <tr>\n",
              "      <th>0</th>\n",
              "      <td>1</td>\n",
              "      <td>Finland</td>\n",
              "      <td>7.632</td>\n",
              "      <td>1.305</td>\n",
              "      <td>1.592</td>\n",
              "      <td>0.874</td>\n",
              "      <td>0.681</td>\n",
              "      <td>0.202</td>\n",
              "      <td>0.393</td>\n",
              "    </tr>\n",
              "    <tr>\n",
              "      <th>1</th>\n",
              "      <td>2</td>\n",
              "      <td>Norway</td>\n",
              "      <td>7.594</td>\n",
              "      <td>1.456</td>\n",
              "      <td>1.582</td>\n",
              "      <td>0.861</td>\n",
              "      <td>0.686</td>\n",
              "      <td>0.286</td>\n",
              "      <td>0.340</td>\n",
              "    </tr>\n",
              "  </tbody>\n",
              "</table>\n",
              "</div>"
            ],
            "text/plain": [
              "   Overall rank Country or region  ...  Generosity  Perceptions of corruption\n",
              "0             1           Finland  ...       0.202                      0.393\n",
              "1             2            Norway  ...       0.286                      0.340\n",
              "\n",
              "[2 rows x 9 columns]"
            ]
          },
          "metadata": {
            "tags": []
          },
          "execution_count": 11
        }
      ]
    },
    {
      "cell_type": "code",
      "metadata": {
        "colab": {
          "base_uri": "https://localhost:8080/",
          "height": 106
        },
        "id": "TOGYS0Th14iL",
        "outputId": "0c0272a9-cb2f-4310-fb85-36cd88c344ba"
      },
      "source": [
        "data_18 = data_18.rename(\n",
        "    columns={\n",
        "        'Country or region': 'country',\n",
        "        'Overall rank': 'rank',\n",
        "        'Score': 'score',\n",
        "        'GDP per capita': 'economy',\n",
        "        'Social support': 'support',\n",
        "        'Healthy life expectancy': 'health',\n",
        "        'Freedom to make life choices': 'freedom',\n",
        "        'Perceptions of corruption': 'trust',\n",
        "        'Generosity': 'generosity'\n",
        "    }\n",
        ")\n",
        "\n",
        "data_18.head(2)"
      ],
      "execution_count": 12,
      "outputs": [
        {
          "output_type": "execute_result",
          "data": {
            "text/html": [
              "<div>\n",
              "<style scoped>\n",
              "    .dataframe tbody tr th:only-of-type {\n",
              "        vertical-align: middle;\n",
              "    }\n",
              "\n",
              "    .dataframe tbody tr th {\n",
              "        vertical-align: top;\n",
              "    }\n",
              "\n",
              "    .dataframe thead th {\n",
              "        text-align: right;\n",
              "    }\n",
              "</style>\n",
              "<table border=\"1\" class=\"dataframe\">\n",
              "  <thead>\n",
              "    <tr style=\"text-align: right;\">\n",
              "      <th></th>\n",
              "      <th>rank</th>\n",
              "      <th>country</th>\n",
              "      <th>score</th>\n",
              "      <th>economy</th>\n",
              "      <th>support</th>\n",
              "      <th>health</th>\n",
              "      <th>freedom</th>\n",
              "      <th>generosity</th>\n",
              "      <th>trust</th>\n",
              "    </tr>\n",
              "  </thead>\n",
              "  <tbody>\n",
              "    <tr>\n",
              "      <th>0</th>\n",
              "      <td>1</td>\n",
              "      <td>Finland</td>\n",
              "      <td>7.632</td>\n",
              "      <td>1.305</td>\n",
              "      <td>1.592</td>\n",
              "      <td>0.874</td>\n",
              "      <td>0.681</td>\n",
              "      <td>0.202</td>\n",
              "      <td>0.393</td>\n",
              "    </tr>\n",
              "    <tr>\n",
              "      <th>1</th>\n",
              "      <td>2</td>\n",
              "      <td>Norway</td>\n",
              "      <td>7.594</td>\n",
              "      <td>1.456</td>\n",
              "      <td>1.582</td>\n",
              "      <td>0.861</td>\n",
              "      <td>0.686</td>\n",
              "      <td>0.286</td>\n",
              "      <td>0.340</td>\n",
              "    </tr>\n",
              "  </tbody>\n",
              "</table>\n",
              "</div>"
            ],
            "text/plain": [
              "   rank  country  score  economy  support  health  freedom  generosity  trust\n",
              "0     1  Finland  7.632    1.305    1.592   0.874    0.681       0.202  0.393\n",
              "1     2   Norway  7.594    1.456    1.582   0.861    0.686       0.286  0.340"
            ]
          },
          "metadata": {
            "tags": []
          },
          "execution_count": 12
        }
      ]
    },
    {
      "cell_type": "markdown",
      "metadata": {
        "id": "rOmF5zeV1xkX"
      },
      "source": [
        "### Clean 2019 Dataset"
      ]
    },
    {
      "cell_type": "code",
      "metadata": {
        "colab": {
          "base_uri": "https://localhost:8080/",
          "height": 123
        },
        "id": "7FhQgkd21z31",
        "outputId": "e40579ff-7dee-49e0-c350-f12ccd8b80f8"
      },
      "source": [
        "data_19.head(2)"
      ],
      "execution_count": 13,
      "outputs": [
        {
          "output_type": "execute_result",
          "data": {
            "text/html": [
              "<div>\n",
              "<style scoped>\n",
              "    .dataframe tbody tr th:only-of-type {\n",
              "        vertical-align: middle;\n",
              "    }\n",
              "\n",
              "    .dataframe tbody tr th {\n",
              "        vertical-align: top;\n",
              "    }\n",
              "\n",
              "    .dataframe thead th {\n",
              "        text-align: right;\n",
              "    }\n",
              "</style>\n",
              "<table border=\"1\" class=\"dataframe\">\n",
              "  <thead>\n",
              "    <tr style=\"text-align: right;\">\n",
              "      <th></th>\n",
              "      <th>Overall rank</th>\n",
              "      <th>Country or region</th>\n",
              "      <th>Score</th>\n",
              "      <th>GDP per capita</th>\n",
              "      <th>Social support</th>\n",
              "      <th>Healthy life expectancy</th>\n",
              "      <th>Freedom to make life choices</th>\n",
              "      <th>Generosity</th>\n",
              "      <th>Perceptions of corruption</th>\n",
              "    </tr>\n",
              "  </thead>\n",
              "  <tbody>\n",
              "    <tr>\n",
              "      <th>0</th>\n",
              "      <td>1</td>\n",
              "      <td>Finland</td>\n",
              "      <td>7.769</td>\n",
              "      <td>1.340</td>\n",
              "      <td>1.587</td>\n",
              "      <td>0.986</td>\n",
              "      <td>0.596</td>\n",
              "      <td>0.153</td>\n",
              "      <td>0.393</td>\n",
              "    </tr>\n",
              "    <tr>\n",
              "      <th>1</th>\n",
              "      <td>2</td>\n",
              "      <td>Denmark</td>\n",
              "      <td>7.600</td>\n",
              "      <td>1.383</td>\n",
              "      <td>1.573</td>\n",
              "      <td>0.996</td>\n",
              "      <td>0.592</td>\n",
              "      <td>0.252</td>\n",
              "      <td>0.410</td>\n",
              "    </tr>\n",
              "  </tbody>\n",
              "</table>\n",
              "</div>"
            ],
            "text/plain": [
              "   Overall rank Country or region  ...  Generosity  Perceptions of corruption\n",
              "0             1           Finland  ...       0.153                      0.393\n",
              "1             2           Denmark  ...       0.252                      0.410\n",
              "\n",
              "[2 rows x 9 columns]"
            ]
          },
          "metadata": {
            "tags": []
          },
          "execution_count": 13
        }
      ]
    },
    {
      "cell_type": "code",
      "metadata": {
        "colab": {
          "base_uri": "https://localhost:8080/",
          "height": 106
        },
        "id": "G6YEtoP34N1c",
        "outputId": "e6d74f7f-cbcf-4250-ccb4-af5abc823d4b"
      },
      "source": [
        "data_19 = data_19.rename(\n",
        "    columns={\n",
        "        'Country or region': 'country',\n",
        "        'Overall rank': 'rank',\n",
        "        'Score': 'score',\n",
        "        'GDP per capita': 'economy',\n",
        "        'Social support': 'support',\n",
        "        'Healthy life expectancy': 'health',\n",
        "        'Freedom to make life choices': 'freedom',\n",
        "        'Perceptions of corruption': 'trust',\n",
        "        'Generosity': 'generosity'\n",
        "    }\n",
        ")\n",
        "\n",
        "data_19.head(2)"
      ],
      "execution_count": 14,
      "outputs": [
        {
          "output_type": "execute_result",
          "data": {
            "text/html": [
              "<div>\n",
              "<style scoped>\n",
              "    .dataframe tbody tr th:only-of-type {\n",
              "        vertical-align: middle;\n",
              "    }\n",
              "\n",
              "    .dataframe tbody tr th {\n",
              "        vertical-align: top;\n",
              "    }\n",
              "\n",
              "    .dataframe thead th {\n",
              "        text-align: right;\n",
              "    }\n",
              "</style>\n",
              "<table border=\"1\" class=\"dataframe\">\n",
              "  <thead>\n",
              "    <tr style=\"text-align: right;\">\n",
              "      <th></th>\n",
              "      <th>rank</th>\n",
              "      <th>country</th>\n",
              "      <th>score</th>\n",
              "      <th>economy</th>\n",
              "      <th>support</th>\n",
              "      <th>health</th>\n",
              "      <th>freedom</th>\n",
              "      <th>generosity</th>\n",
              "      <th>trust</th>\n",
              "    </tr>\n",
              "  </thead>\n",
              "  <tbody>\n",
              "    <tr>\n",
              "      <th>0</th>\n",
              "      <td>1</td>\n",
              "      <td>Finland</td>\n",
              "      <td>7.769</td>\n",
              "      <td>1.340</td>\n",
              "      <td>1.587</td>\n",
              "      <td>0.986</td>\n",
              "      <td>0.596</td>\n",
              "      <td>0.153</td>\n",
              "      <td>0.393</td>\n",
              "    </tr>\n",
              "    <tr>\n",
              "      <th>1</th>\n",
              "      <td>2</td>\n",
              "      <td>Denmark</td>\n",
              "      <td>7.600</td>\n",
              "      <td>1.383</td>\n",
              "      <td>1.573</td>\n",
              "      <td>0.996</td>\n",
              "      <td>0.592</td>\n",
              "      <td>0.252</td>\n",
              "      <td>0.410</td>\n",
              "    </tr>\n",
              "  </tbody>\n",
              "</table>\n",
              "</div>"
            ],
            "text/plain": [
              "   rank  country  score  economy  support  health  freedom  generosity  trust\n",
              "0     1  Finland  7.769    1.340    1.587   0.986    0.596       0.153  0.393\n",
              "1     2  Denmark  7.600    1.383    1.573   0.996    0.592       0.252  0.410"
            ]
          },
          "metadata": {
            "tags": []
          },
          "execution_count": 14
        }
      ]
    },
    {
      "cell_type": "markdown",
      "metadata": {
        "id": "7pg2Gyez7skJ"
      },
      "source": [
        "PD: On years 2015-2017 Social support was connoted as 'Family', instead of 'Social support', for consistency on the aggregation of data, we keep it defined as 'support' across all the datasets"
      ]
    },
    {
      "cell_type": "markdown",
      "metadata": {
        "id": "NVTKKjBT_FEC"
      },
      "source": [
        "# Datasets Aggregation"
      ]
    },
    {
      "cell_type": "markdown",
      "metadata": {
        "id": "8AMcv4kpZhSP"
      },
      "source": [
        "### Append Year Data\n",
        "\n",
        "We will perform aggregation later, but first, we need to add the year data to each dataset, for not to lose track of what year a record for each country was taken"
      ]
    },
    {
      "cell_type": "code",
      "metadata": {
        "id": "5IMa9Ri7ZwlG"
      },
      "source": [
        "data_15['year'] = pd.Series(data=[2015 for i in range(len(data_15))])\n",
        "data_16['year'] = pd.Series(data=[2016 for i in range(len(data_16))])\n",
        "data_17['year'] = pd.Series(data=[2017 for i in range(len(data_17))])\n",
        "data_18['year'] = pd.Series(data=[2018 for i in range(len(data_18))])\n",
        "data_19['year'] = pd.Series(data=[2019 for i in range(len(data_19))])"
      ],
      "execution_count": 70,
      "outputs": []
    },
    {
      "cell_type": "markdown",
      "metadata": {
        "id": "MqqX1Lrh_5LJ"
      },
      "source": [
        "### Append Region Data\n",
        "\n",
        "2018 and 2019 Dataset has no country region data. This can be usefull for calculate stats about specific regions of the world, like latam, europe or asia. Lets fill that data."
      ]
    },
    {
      "cell_type": "code",
      "metadata": {
        "colab": {
          "base_uri": "https://localhost:8080/",
          "height": 314
        },
        "id": "dOVxQeBm-XLm",
        "outputId": "747b6f86-f393-410b-d6d4-3c0fb6626fb5"
      },
      "source": [
        "data_15_sub = data_15[['country', 'region']]\n",
        "data_16_sub = data_16[['country', 'region']]\n",
        "\n",
        "countries_regions = pd.concat([data_15_sub, data_16_sub])\n",
        "countries_regions = countries_regions.drop_duplicates()\n",
        "countries_regions.index = countries_regions.country\n",
        "countries_regions = countries_regions.drop(columns='country')\n",
        "countries_regions.sample(frac=0.05)"
      ],
      "execution_count": 71,
      "outputs": [
        {
          "output_type": "execute_result",
          "data": {
            "text/html": [
              "<div>\n",
              "<style scoped>\n",
              "    .dataframe tbody tr th:only-of-type {\n",
              "        vertical-align: middle;\n",
              "    }\n",
              "\n",
              "    .dataframe tbody tr th {\n",
              "        vertical-align: top;\n",
              "    }\n",
              "\n",
              "    .dataframe thead th {\n",
              "        text-align: right;\n",
              "    }\n",
              "</style>\n",
              "<table border=\"1\" class=\"dataframe\">\n",
              "  <thead>\n",
              "    <tr style=\"text-align: right;\">\n",
              "      <th></th>\n",
              "      <th>region</th>\n",
              "    </tr>\n",
              "    <tr>\n",
              "      <th>country</th>\n",
              "      <th></th>\n",
              "    </tr>\n",
              "  </thead>\n",
              "  <tbody>\n",
              "    <tr>\n",
              "      <th>Azerbaijan</th>\n",
              "      <td>Central and Eastern Europe</td>\n",
              "    </tr>\n",
              "    <tr>\n",
              "      <th>North Cyprus</th>\n",
              "      <td>Western Europe</td>\n",
              "    </tr>\n",
              "    <tr>\n",
              "      <th>Kosovo</th>\n",
              "      <td>Central and Eastern Europe</td>\n",
              "    </tr>\n",
              "    <tr>\n",
              "      <th>Hong Kong</th>\n",
              "      <td>Eastern Asia</td>\n",
              "    </tr>\n",
              "    <tr>\n",
              "      <th>Moldova</th>\n",
              "      <td>Central and Eastern Europe</td>\n",
              "    </tr>\n",
              "    <tr>\n",
              "      <th>Laos</th>\n",
              "      <td>Southeastern Asia</td>\n",
              "    </tr>\n",
              "    <tr>\n",
              "      <th>Zimbabwe</th>\n",
              "      <td>Sub-Saharan Africa</td>\n",
              "    </tr>\n",
              "    <tr>\n",
              "      <th>Mali</th>\n",
              "      <td>Sub-Saharan Africa</td>\n",
              "    </tr>\n",
              "  </tbody>\n",
              "</table>\n",
              "</div>"
            ],
            "text/plain": [
              "                                  region\n",
              "country                                 \n",
              "Azerbaijan    Central and Eastern Europe\n",
              "North Cyprus              Western Europe\n",
              "Kosovo        Central and Eastern Europe\n",
              "Hong Kong                   Eastern Asia\n",
              "Moldova       Central and Eastern Europe\n",
              "Laos                   Southeastern Asia\n",
              "Zimbabwe              Sub-Saharan Africa\n",
              "Mali                  Sub-Saharan Africa"
            ]
          },
          "metadata": {
            "tags": []
          },
          "execution_count": 71
        }
      ]
    },
    {
      "cell_type": "markdown",
      "metadata": {
        "id": "uaNG-b3-G_Nq"
      },
      "source": [
        "Now we have a dataframe that contains all the available information about countries and regions in 2015 and 2016 datasets. Let put that data into the other datasets"
      ]
    },
    {
      "cell_type": "code",
      "metadata": {
        "colab": {
          "base_uri": "https://localhost:8080/",
          "height": 284
        },
        "id": "89szrwV0HKIp",
        "outputId": "9ed799a2-bccb-411a-b042-7cfc314f0daf"
      },
      "source": [
        "def append_regions(series):\n",
        "    try:\n",
        "        series.region = countries_regions.loc[series.country].region\n",
        "    except KeyError:\n",
        "        series.region = None\n",
        "    return series\n",
        "\n",
        "data = pd.concat([data_15, data_16, data_17, data_18, data_19])\n",
        "\n",
        "data = data.apply(\n",
        "    func=append_regions,\n",
        "    axis=1\n",
        ")\n",
        "\n",
        "data.describe()"
      ],
      "execution_count": 73,
      "outputs": [
        {
          "output_type": "execute_result",
          "data": {
            "text/html": [
              "<div>\n",
              "<style scoped>\n",
              "    .dataframe tbody tr th:only-of-type {\n",
              "        vertical-align: middle;\n",
              "    }\n",
              "\n",
              "    .dataframe tbody tr th {\n",
              "        vertical-align: top;\n",
              "    }\n",
              "\n",
              "    .dataframe thead th {\n",
              "        text-align: right;\n",
              "    }\n",
              "</style>\n",
              "<table border=\"1\" class=\"dataframe\">\n",
              "  <thead>\n",
              "    <tr style=\"text-align: right;\">\n",
              "      <th></th>\n",
              "      <th>rank</th>\n",
              "      <th>score</th>\n",
              "      <th>economy</th>\n",
              "      <th>support</th>\n",
              "      <th>health</th>\n",
              "      <th>freedom</th>\n",
              "      <th>trust</th>\n",
              "      <th>generosity</th>\n",
              "      <th>year</th>\n",
              "    </tr>\n",
              "  </thead>\n",
              "  <tbody>\n",
              "    <tr>\n",
              "      <th>count</th>\n",
              "      <td>782.000000</td>\n",
              "      <td>782.000000</td>\n",
              "      <td>782.000000</td>\n",
              "      <td>782.000000</td>\n",
              "      <td>782.000000</td>\n",
              "      <td>782.000000</td>\n",
              "      <td>781.000000</td>\n",
              "      <td>782.000000</td>\n",
              "      <td>782.000000</td>\n",
              "    </tr>\n",
              "    <tr>\n",
              "      <th>mean</th>\n",
              "      <td>78.698210</td>\n",
              "      <td>5.379018</td>\n",
              "      <td>0.916047</td>\n",
              "      <td>1.078392</td>\n",
              "      <td>0.612416</td>\n",
              "      <td>0.411091</td>\n",
              "      <td>0.125436</td>\n",
              "      <td>0.218576</td>\n",
              "      <td>2016.993606</td>\n",
              "    </tr>\n",
              "    <tr>\n",
              "      <th>std</th>\n",
              "      <td>45.182384</td>\n",
              "      <td>1.127456</td>\n",
              "      <td>0.407340</td>\n",
              "      <td>0.329548</td>\n",
              "      <td>0.248309</td>\n",
              "      <td>0.152880</td>\n",
              "      <td>0.105816</td>\n",
              "      <td>0.122321</td>\n",
              "      <td>1.417364</td>\n",
              "    </tr>\n",
              "    <tr>\n",
              "      <th>min</th>\n",
              "      <td>1.000000</td>\n",
              "      <td>2.693000</td>\n",
              "      <td>0.000000</td>\n",
              "      <td>0.000000</td>\n",
              "      <td>0.000000</td>\n",
              "      <td>0.000000</td>\n",
              "      <td>0.000000</td>\n",
              "      <td>0.000000</td>\n",
              "      <td>2015.000000</td>\n",
              "    </tr>\n",
              "    <tr>\n",
              "      <th>25%</th>\n",
              "      <td>40.000000</td>\n",
              "      <td>4.509750</td>\n",
              "      <td>0.606500</td>\n",
              "      <td>0.869363</td>\n",
              "      <td>0.440183</td>\n",
              "      <td>0.309768</td>\n",
              "      <td>0.054000</td>\n",
              "      <td>0.130000</td>\n",
              "      <td>2016.000000</td>\n",
              "    </tr>\n",
              "    <tr>\n",
              "      <th>50%</th>\n",
              "      <td>79.000000</td>\n",
              "      <td>5.322000</td>\n",
              "      <td>0.982205</td>\n",
              "      <td>1.124735</td>\n",
              "      <td>0.647310</td>\n",
              "      <td>0.431000</td>\n",
              "      <td>0.091000</td>\n",
              "      <td>0.201982</td>\n",
              "      <td>2017.000000</td>\n",
              "    </tr>\n",
              "    <tr>\n",
              "      <th>75%</th>\n",
              "      <td>118.000000</td>\n",
              "      <td>6.189500</td>\n",
              "      <td>1.236187</td>\n",
              "      <td>1.327250</td>\n",
              "      <td>0.808000</td>\n",
              "      <td>0.531000</td>\n",
              "      <td>0.156030</td>\n",
              "      <td>0.278832</td>\n",
              "      <td>2018.000000</td>\n",
              "    </tr>\n",
              "    <tr>\n",
              "      <th>max</th>\n",
              "      <td>158.000000</td>\n",
              "      <td>7.769000</td>\n",
              "      <td>2.096000</td>\n",
              "      <td>1.644000</td>\n",
              "      <td>1.141000</td>\n",
              "      <td>0.724000</td>\n",
              "      <td>0.551910</td>\n",
              "      <td>0.838075</td>\n",
              "      <td>2019.000000</td>\n",
              "    </tr>\n",
              "  </tbody>\n",
              "</table>\n",
              "</div>"
            ],
            "text/plain": [
              "             rank       score     economy  ...       trust  generosity         year\n",
              "count  782.000000  782.000000  782.000000  ...  781.000000  782.000000   782.000000\n",
              "mean    78.698210    5.379018    0.916047  ...    0.125436    0.218576  2016.993606\n",
              "std     45.182384    1.127456    0.407340  ...    0.105816    0.122321     1.417364\n",
              "min      1.000000    2.693000    0.000000  ...    0.000000    0.000000  2015.000000\n",
              "25%     40.000000    4.509750    0.606500  ...    0.054000    0.130000  2016.000000\n",
              "50%     79.000000    5.322000    0.982205  ...    0.091000    0.201982  2017.000000\n",
              "75%    118.000000    6.189500    1.236187  ...    0.156030    0.278832  2018.000000\n",
              "max    158.000000    7.769000    2.096000  ...    0.551910    0.838075  2019.000000\n",
              "\n",
              "[8 rows x 9 columns]"
            ]
          },
          "metadata": {
            "tags": []
          },
          "execution_count": 73
        }
      ]
    },
    {
      "cell_type": "code",
      "metadata": {
        "id": "tX26PbcyKDPQ"
      },
      "source": [
        "data[data.country.str.contains('Venezuela')]"
      ],
      "execution_count": null,
      "outputs": []
    }
  ]
}